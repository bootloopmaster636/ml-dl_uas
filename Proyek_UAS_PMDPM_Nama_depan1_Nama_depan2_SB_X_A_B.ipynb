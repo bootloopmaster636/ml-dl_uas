{
  "cells": [
    {
      "attachments": {},
      "cell_type": "markdown",
      "id": "72a875f0",
      "metadata": {
        "id": "72a875f0"
      },
      "source": [
        "# Proyek UAS PMDPM\n",
        "\n",
        "<b>Harap jangan menghapus cell dan komentar yang diberikan!</b>\n",
        "\n",
        "Setiap cell markdown dan code akan berisi instruksi pengerjaan Proyek UAS PMDPM\n",
        "\n",
        "Dalam notebook ini Anda akan diminta untuk membuat sebuah proyek Pembelajaran Mesin menggunakan dataset yang sudah disediakan. Proyek akan terdiri dari proses inisialisasi, data loading, data cleansing, feature engineering, modelling dan evaluasi model. Pada bagian akhir silahkan berikan laporan singkat dari proyek yang sudah dikerjakan"
      ]
    },
    {
      "attachments": {},
      "cell_type": "markdown",
      "id": "mJk9HuB_FIKC",
      "metadata": {
        "id": "mJk9HuB_FIKC"
      },
      "source": [
        "## Penjelasan Tugas\n",
        "\n",
        "Terapkan pemrosesan dataset dari loading, data cleansing (jika perlu), data scaling, feature selection, hingga evaluasi model secara sederhana menggunakan code yang sudah dipelajari dalam latihan-latihan dan tugas."
      ]
    },
    {
      "attachments": {},
      "cell_type": "markdown",
      "id": "79d4888b",
      "metadata": {
        "id": "79d4888b"
      },
      "source": [
        "### Inisialisasi\n",
        "\n",
        "Bagian berikut berisi import library yang dibutuhkan"
      ]
    },
    {
      "cell_type": "code",
      "execution_count": 135,
      "id": "2b4ec77a",
      "metadata": {},
      "outputs": [],
      "source": [
        "import pandas as pd\n",
        "import matplotlib.pyplot as plt\n",
        "import seaborn as sns"
      ]
    },
    {
      "attachments": {},
      "cell_type": "markdown",
      "id": "fdd03879",
      "metadata": {
        "id": "fdd03879"
      },
      "source": [
        "### Data Loading\n",
        "\n",
        "Bagian berikut berisi proses data loading (boleh dengan file upload atau dengan mount drive), jangan lupa tampilkan 20 baris data teratas!"
      ]
    },
    {
      "cell_type": "code",
      "execution_count": 136,
      "id": "1074df6e",
      "metadata": {
        "id": "1074df6e"
      },
      "outputs": [
        {
          "data": {
            "text/html": [
              "<div>\n",
              "<style scoped>\n",
              "    .dataframe tbody tr th:only-of-type {\n",
              "        vertical-align: middle;\n",
              "    }\n",
              "\n",
              "    .dataframe tbody tr th {\n",
              "        vertical-align: top;\n",
              "    }\n",
              "\n",
              "    .dataframe thead th {\n",
              "        text-align: right;\n",
              "    }\n",
              "</style>\n",
              "<table border=\"1\" class=\"dataframe\">\n",
              "  <thead>\n",
              "    <tr style=\"text-align: right;\">\n",
              "      <th></th>\n",
              "      <th>cityPartRange</th>\n",
              "      <th>numPrevOwners</th>\n",
              "      <th>made</th>\n",
              "      <th>isNewBuilt</th>\n",
              "      <th>hasStormProtector</th>\n",
              "      <th>basement</th>\n",
              "      <th>attic</th>\n",
              "      <th>garage</th>\n",
              "      <th>hasStorageRoom</th>\n",
              "      <th>hasGuestRoom</th>\n",
              "      <th>price</th>\n",
              "      <th>category</th>\n",
              "    </tr>\n",
              "  </thead>\n",
              "  <tbody>\n",
              "    <tr>\n",
              "      <th>0</th>\n",
              "      <td>3</td>\n",
              "      <td>4</td>\n",
              "      <td>1995</td>\n",
              "      <td>N</td>\n",
              "      <td>Y</td>\n",
              "      <td>3114</td>\n",
              "      <td>1258</td>\n",
              "      <td>264</td>\n",
              "      <td>Y</td>\n",
              "      <td>9</td>\n",
              "      <td>10313.5</td>\n",
              "      <td>Basic</td>\n",
              "    </tr>\n",
              "    <tr>\n",
              "      <th>1</th>\n",
              "      <td>9</td>\n",
              "      <td>1</td>\n",
              "      <td>2011</td>\n",
              "      <td>N</td>\n",
              "      <td>Y</td>\n",
              "      <td>9390</td>\n",
              "      <td>6219</td>\n",
              "      <td>922</td>\n",
              "      <td>N</td>\n",
              "      <td>9</td>\n",
              "      <td>13229.1</td>\n",
              "      <td>Basic</td>\n",
              "    </tr>\n",
              "    <tr>\n",
              "      <th>2</th>\n",
              "      <td>1</td>\n",
              "      <td>4</td>\n",
              "      <td>2003</td>\n",
              "      <td>Y</td>\n",
              "      <td>N</td>\n",
              "      <td>2239</td>\n",
              "      <td>2795</td>\n",
              "      <td>951</td>\n",
              "      <td>Y</td>\n",
              "      <td>7</td>\n",
              "      <td>14431.3</td>\n",
              "      <td>Basic</td>\n",
              "    </tr>\n",
              "    <tr>\n",
              "      <th>3</th>\n",
              "      <td>6</td>\n",
              "      <td>2</td>\n",
              "      <td>1990</td>\n",
              "      <td>N</td>\n",
              "      <td>N</td>\n",
              "      <td>6861</td>\n",
              "      <td>5769</td>\n",
              "      <td>442</td>\n",
              "      <td>N</td>\n",
              "      <td>5</td>\n",
              "      <td>15488.0</td>\n",
              "      <td>Basic</td>\n",
              "    </tr>\n",
              "    <tr>\n",
              "      <th>4</th>\n",
              "      <td>6</td>\n",
              "      <td>9</td>\n",
              "      <td>1992</td>\n",
              "      <td>Y</td>\n",
              "      <td>Y</td>\n",
              "      <td>6618</td>\n",
              "      <td>7045</td>\n",
              "      <td>939</td>\n",
              "      <td>Y</td>\n",
              "      <td>10</td>\n",
              "      <td>16799.2</td>\n",
              "      <td>Basic</td>\n",
              "    </tr>\n",
              "    <tr>\n",
              "      <th>5</th>\n",
              "      <td>5</td>\n",
              "      <td>2</td>\n",
              "      <td>2010</td>\n",
              "      <td>Y</td>\n",
              "      <td>N</td>\n",
              "      <td>4426</td>\n",
              "      <td>5336</td>\n",
              "      <td>911</td>\n",
              "      <td>N</td>\n",
              "      <td>4</td>\n",
              "      <td>17071.0</td>\n",
              "      <td>Basic</td>\n",
              "    </tr>\n",
              "    <tr>\n",
              "      <th>6</th>\n",
              "      <td>4</td>\n",
              "      <td>3</td>\n",
              "      <td>1990</td>\n",
              "      <td>Y</td>\n",
              "      <td>N</td>\n",
              "      <td>6022</td>\n",
              "      <td>8521</td>\n",
              "      <td>391</td>\n",
              "      <td>Y</td>\n",
              "      <td>3</td>\n",
              "      <td>17363.0</td>\n",
              "      <td>Basic</td>\n",
              "    </tr>\n",
              "    <tr>\n",
              "      <th>7</th>\n",
              "      <td>6</td>\n",
              "      <td>3</td>\n",
              "      <td>2000</td>\n",
              "      <td>N</td>\n",
              "      <td>N</td>\n",
              "      <td>2325</td>\n",
              "      <td>6230</td>\n",
              "      <td>536</td>\n",
              "      <td>N</td>\n",
              "      <td>9</td>\n",
              "      <td>18985.0</td>\n",
              "      <td>Basic</td>\n",
              "    </tr>\n",
              "    <tr>\n",
              "      <th>8</th>\n",
              "      <td>2</td>\n",
              "      <td>2</td>\n",
              "      <td>2020</td>\n",
              "      <td>N</td>\n",
              "      <td>Y</td>\n",
              "      <td>8598</td>\n",
              "      <td>3119</td>\n",
              "      <td>268</td>\n",
              "      <td>N</td>\n",
              "      <td>10</td>\n",
              "      <td>19638.0</td>\n",
              "      <td>Basic</td>\n",
              "    </tr>\n",
              "    <tr>\n",
              "      <th>9</th>\n",
              "      <td>7</td>\n",
              "      <td>6</td>\n",
              "      <td>1995</td>\n",
              "      <td>N</td>\n",
              "      <td>Y</td>\n",
              "      <td>2675</td>\n",
              "      <td>6452</td>\n",
              "      <td>724</td>\n",
              "      <td>Y</td>\n",
              "      <td>2</td>\n",
              "      <td>19788.5</td>\n",
              "      <td>Basic</td>\n",
              "    </tr>\n",
              "    <tr>\n",
              "      <th>10</th>\n",
              "      <td>5</td>\n",
              "      <td>1</td>\n",
              "      <td>2021</td>\n",
              "      <td>N</td>\n",
              "      <td>Y</td>\n",
              "      <td>6831</td>\n",
              "      <td>1323</td>\n",
              "      <td>242</td>\n",
              "      <td>N</td>\n",
              "      <td>9</td>\n",
              "      <td>21201.1</td>\n",
              "      <td>Basic</td>\n",
              "    </tr>\n",
              "    <tr>\n",
              "      <th>11</th>\n",
              "      <td>3</td>\n",
              "      <td>1</td>\n",
              "      <td>2002</td>\n",
              "      <td>N</td>\n",
              "      <td>Y</td>\n",
              "      <td>7704</td>\n",
              "      <td>7896</td>\n",
              "      <td>468</td>\n",
              "      <td>Y</td>\n",
              "      <td>8</td>\n",
              "      <td>22499.2</td>\n",
              "      <td>Basic</td>\n",
              "    </tr>\n",
              "    <tr>\n",
              "      <th>12</th>\n",
              "      <td>5</td>\n",
              "      <td>4</td>\n",
              "      <td>1997</td>\n",
              "      <td>Y</td>\n",
              "      <td>N</td>\n",
              "      <td>3411</td>\n",
              "      <td>8985</td>\n",
              "      <td>213</td>\n",
              "      <td>N</td>\n",
              "      <td>4</td>\n",
              "      <td>22670.7</td>\n",
              "      <td>Basic</td>\n",
              "    </tr>\n",
              "    <tr>\n",
              "      <th>13</th>\n",
              "      <td>5</td>\n",
              "      <td>1</td>\n",
              "      <td>1991</td>\n",
              "      <td>N</td>\n",
              "      <td>Y</td>\n",
              "      <td>411</td>\n",
              "      <td>475</td>\n",
              "      <td>110</td>\n",
              "      <td>N</td>\n",
              "      <td>9</td>\n",
              "      <td>23653.1</td>\n",
              "      <td>Basic</td>\n",
              "    </tr>\n",
              "    <tr>\n",
              "      <th>14</th>\n",
              "      <td>8</td>\n",
              "      <td>6</td>\n",
              "      <td>2014</td>\n",
              "      <td>Y</td>\n",
              "      <td>N</td>\n",
              "      <td>2663</td>\n",
              "      <td>1650</td>\n",
              "      <td>403</td>\n",
              "      <td>Y</td>\n",
              "      <td>10</td>\n",
              "      <td>23818.4</td>\n",
              "      <td>Basic</td>\n",
              "    </tr>\n",
              "    <tr>\n",
              "      <th>15</th>\n",
              "      <td>7</td>\n",
              "      <td>5</td>\n",
              "      <td>2009</td>\n",
              "      <td>N</td>\n",
              "      <td>Y</td>\n",
              "      <td>3367</td>\n",
              "      <td>1039</td>\n",
              "      <td>436</td>\n",
              "      <td>Y</td>\n",
              "      <td>1</td>\n",
              "      <td>24058.9</td>\n",
              "      <td>Basic</td>\n",
              "    </tr>\n",
              "    <tr>\n",
              "      <th>16</th>\n",
              "      <td>7</td>\n",
              "      <td>2</td>\n",
              "      <td>2019</td>\n",
              "      <td>N</td>\n",
              "      <td>N</td>\n",
              "      <td>9680</td>\n",
              "      <td>5250</td>\n",
              "      <td>134</td>\n",
              "      <td>N</td>\n",
              "      <td>10</td>\n",
              "      <td>26533.9</td>\n",
              "      <td>Basic</td>\n",
              "    </tr>\n",
              "    <tr>\n",
              "      <th>17</th>\n",
              "      <td>2</td>\n",
              "      <td>1</td>\n",
              "      <td>2014</td>\n",
              "      <td>Y</td>\n",
              "      <td>N</td>\n",
              "      <td>1820</td>\n",
              "      <td>999</td>\n",
              "      <td>805</td>\n",
              "      <td>Y</td>\n",
              "      <td>4</td>\n",
              "      <td>27438.4</td>\n",
              "      <td>Basic</td>\n",
              "    </tr>\n",
              "    <tr>\n",
              "      <th>18</th>\n",
              "      <td>6</td>\n",
              "      <td>5</td>\n",
              "      <td>2000</td>\n",
              "      <td>Y</td>\n",
              "      <td>N</td>\n",
              "      <td>6453</td>\n",
              "      <td>5671</td>\n",
              "      <td>744</td>\n",
              "      <td>Y</td>\n",
              "      <td>9</td>\n",
              "      <td>28028.0</td>\n",
              "      <td>Basic</td>\n",
              "    </tr>\n",
              "    <tr>\n",
              "      <th>19</th>\n",
              "      <td>2</td>\n",
              "      <td>4</td>\n",
              "      <td>1996</td>\n",
              "      <td>Y</td>\n",
              "      <td>Y</td>\n",
              "      <td>5740</td>\n",
              "      <td>8505</td>\n",
              "      <td>106</td>\n",
              "      <td>Y</td>\n",
              "      <td>6</td>\n",
              "      <td>28295.6</td>\n",
              "      <td>Basic</td>\n",
              "    </tr>\n",
              "  </tbody>\n",
              "</table>\n",
              "</div>"
            ],
            "text/plain": [
              "    cityPartRange  numPrevOwners  made isNewBuilt hasStormProtector  basement   \n",
              "0               3              4  1995          N                 Y      3114  \\\n",
              "1               9              1  2011          N                 Y      9390   \n",
              "2               1              4  2003          Y                 N      2239   \n",
              "3               6              2  1990          N                 N      6861   \n",
              "4               6              9  1992          Y                 Y      6618   \n",
              "5               5              2  2010          Y                 N      4426   \n",
              "6               4              3  1990          Y                 N      6022   \n",
              "7               6              3  2000          N                 N      2325   \n",
              "8               2              2  2020          N                 Y      8598   \n",
              "9               7              6  1995          N                 Y      2675   \n",
              "10              5              1  2021          N                 Y      6831   \n",
              "11              3              1  2002          N                 Y      7704   \n",
              "12              5              4  1997          Y                 N      3411   \n",
              "13              5              1  1991          N                 Y       411   \n",
              "14              8              6  2014          Y                 N      2663   \n",
              "15              7              5  2009          N                 Y      3367   \n",
              "16              7              2  2019          N                 N      9680   \n",
              "17              2              1  2014          Y                 N      1820   \n",
              "18              6              5  2000          Y                 N      6453   \n",
              "19              2              4  1996          Y                 Y      5740   \n",
              "\n",
              "    attic  garage hasStorageRoom  hasGuestRoom    price category  \n",
              "0    1258     264              Y             9  10313.5    Basic  \n",
              "1    6219     922              N             9  13229.1    Basic  \n",
              "2    2795     951              Y             7  14431.3    Basic  \n",
              "3    5769     442              N             5  15488.0    Basic  \n",
              "4    7045     939              Y            10  16799.2    Basic  \n",
              "5    5336     911              N             4  17071.0    Basic  \n",
              "6    8521     391              Y             3  17363.0    Basic  \n",
              "7    6230     536              N             9  18985.0    Basic  \n",
              "8    3119     268              N            10  19638.0    Basic  \n",
              "9    6452     724              Y             2  19788.5    Basic  \n",
              "10   1323     242              N             9  21201.1    Basic  \n",
              "11   7896     468              Y             8  22499.2    Basic  \n",
              "12   8985     213              N             4  22670.7    Basic  \n",
              "13    475     110              N             9  23653.1    Basic  \n",
              "14   1650     403              Y            10  23818.4    Basic  \n",
              "15   1039     436              Y             1  24058.9    Basic  \n",
              "16   5250     134              N            10  26533.9    Basic  \n",
              "17    999     805              Y             4  27438.4    Basic  \n",
              "18   5671     744              Y             9  28028.0    Basic  \n",
              "19   8505     106              Y             6  28295.6    Basic  "
            ]
          },
          "execution_count": 136,
          "metadata": {},
          "output_type": "execute_result"
        }
      ],
      "source": [
        "#loading data yang akan diolah\n",
        "data = pd.read_csv('paris_housing2000.csv')\n",
        "data.head(20)"
      ]
    },
    {
      "cell_type": "code",
      "execution_count": 137,
      "id": "b4b3c86c",
      "metadata": {
        "id": "b4b3c86c"
      },
      "outputs": [
        {
          "data": {
            "text/plain": [
              "cityPartRange        0\n",
              "numPrevOwners        0\n",
              "made                 0\n",
              "isNewBuilt           0\n",
              "hasStormProtector    0\n",
              "basement             0\n",
              "attic                0\n",
              "garage               0\n",
              "hasStorageRoom       0\n",
              "hasGuestRoom         0\n",
              "price                0\n",
              "category             0\n",
              "dtype: int64"
            ]
          },
          "execution_count": 137,
          "metadata": {},
          "output_type": "execute_result"
        }
      ],
      "source": [
        "#bersihkan dataset menggunakan metode yang sudah dipelajari\n",
        "# detect row yang mengandung NaN\n",
        "data.isnull().sum()\n",
        "# tidak ada data yang null, tidak perlu untuk menghapus data"
      ]
    },
    {
      "attachments": {},
      "cell_type": "markdown",
      "id": "9ba96a3b",
      "metadata": {
        "id": "9ba96a3b"
      },
      "source": [
        "### Data Visualization\n",
        "\n",
        "Dalam proses visualisasi data, silahkan visualisasikan feature menggunakan plot yang sesuai agar mendapat insight dari data dengan menjawab pertanyaan-pertanyaan berikut:\n",
        "\n",
        "    untuk sub A:\n",
        "    1. Bagaimana perbandingan median luas basement rumah berdasarkan tipe rumahnya (Basic dan Luxury)?\n",
        "    2. Bagaimana komposisi jumlah rumah yang baru dibangun atau tidak pada tipe rumah Luxury?\n",
        "   \n",
        "\n",
        "    untuk sub B:\n",
        "    1. Bagaimana perbandingan median luas loteng rumah berdasarkan tipe rumahnya (Basic dan Luxury)\n",
        "    2. Bagaimana komposisi jumlah rumah yang memiliki pelindung badai atau tidak pada tipe rumah Basic?\n",
        "   "
      ]
    },
    {
      "cell_type": "code",
      "execution_count": 138,
      "id": "26979625",
      "metadata": {
        "id": "26979625"
      },
      "outputs": [
        {
          "name": "stdout",
          "output_type": "stream",
          "text": [
            "Median luas basement rumah basic:  5170.0\n",
            "Median luas basement rumah luxury:  4847.5\n"
          ]
        },
        {
          "data": {
            "image/png": "[encoded data removed]",
            "text/plain": [
              "<Figure size 640x480 with 1 Axes>"
            ]
          },
          "metadata": {},
          "output_type": "display_data"
        }
      ],
      "source": [
        "#visualisasi fitur menggunakan metode yang sudah dipelajari\n",
        "# pebandingan median luas basement berdasarkan apakah rumahnya basic atau luxury\n",
        "sns.boxplot(data=data, x=\"category\", y=\"basement\")\n",
        "\n",
        "luas_basement_basic = data[data['category'] == 'Basic']['basement'].median()\n",
        "luas_basement_luxury = data[data['category'] == 'Luxury']['basement'].median()\n",
        "\n",
        "print(\"Median luas basement rumah basic: \", luas_basement_basic)\n",
        "print(\"Median luas basement rumah luxury: \", luas_basement_luxury)"
      ]
    },
    {
      "cell_type": "code",
      "execution_count": 139,
      "metadata": {},
      "outputs": [
        {
          "name": "stdout",
          "output_type": "stream",
          "text": [
            "0\n"
          ]
        },
        {
          "name": "stderr",
          "output_type": "stream",
          "text": [
            "/tmp/ipykernel_158924/3104800616.py:2: UserWarning: Boolean Series key will be reindexed to match DataFrame index.\n",
            "  luxury_new = data[data['category'] == 'Luxury'][data['isNewBuilt'] == 'Y'].shape[0]\n",
            "/tmp/ipykernel_158924/3104800616.py:3: UserWarning: Boolean Series key will be reindexed to match DataFrame index.\n",
            "  luxury_old = data[data['category'] == 'Luxury'][data['isNewBuilt'] == 'N'].shape[0]\n"
          ]
        },
        {
          "data": {
            "text/plain": [
              "([<matplotlib.patches.Wedge at 0x7f41316f1190>,\n",
              "  <matplotlib.patches.Wedge at 0x7f41316f1e10>],\n",
              " [Text(-1.1, 1.3471114790620887e-16, 'Newly built'),\n",
              "  Text(1.1, -2.6942229581241775e-16, 'Not newly built')],\n",
              " [Text(-0.6, 7.347880794884119e-17, '100.0%'),\n",
              "  Text(0.6, -1.4695761589768238e-16, '0.0%')])"
            ]
          },
          "execution_count": 139,
          "metadata": {},
          "output_type": "execute_result"
        },
        {
          "data": {
            "image/png": "[encoded data removed]",
            "text/plain": [
              "<Figure size 640x480 with 1 Axes>"
            ]
          },
          "metadata": {},
          "output_type": "display_data"
        }
      ],
      "source": [
        "# komposisi jumlah rumah yang baru dibangun atau tidak pada rumah luxury\n",
        "luxury_new = data[data['category'] == 'Luxury'][data['isNewBuilt'] == 'Y'].shape[0]\n",
        "luxury_old = data[data['category'] == 'Luxury'][data['isNewBuilt'] == 'N'].shape[0]\n",
        "print(luxury_old)\n",
        "\n",
        "komposisi = [luxury_new, luxury_old]\n",
        "label = ['Newly built', 'Not newly built']\n",
        "\n",
        "plt.pie(komposisi, labels=label, autopct='%1.1f%%')"
      ]
    },
    {
      "attachments": {},
      "cell_type": "markdown",
      "id": "85cce0d7",
      "metadata": {
        "id": "85cce0d7"
      },
      "source": [
        "### Deskripsi Data Visualization\n",
        "Berikan keterangan atau deskripsi singkat mengenai informasi yang diperoleh dari visualisasi data tersebut. Jawablah pertanyaan di atas pada cell markdown ini!\n",
        "\n",
        "1. Perbandingan median luas basement rumahnya adalah basic memiliki luas basement yang lebih tinggi dibanding luxury. Dapat dilihat dalam box plot dan output median bahwa basic memiliki median 5170, sedangkan luxury hanya mempunyai median sebanyak 4847.5 .\n",
        "\n",
        "2. Komposisi rumah luxury yang baru dibangun atau tidak, jika dilihat dalam plot maka dapat disimpulkan bahwa semua rumah bertipe luxury adalah rumah yang barusan dibangun (newly built)."
      ]
    },
    {
      "attachments": {},
      "cell_type": "markdown",
      "id": "3f7db2dd",
      "metadata": {
        "id": "3f7db2dd"
      },
      "source": [
        "### Data Cleansing\n",
        "\n",
        "Bagian berikut berisi proses pembersihan data (jika diperlukan, minimal cek apakah ada data yang kosong atau duplikat). Drop feature yang berlaku sebagai unique identifier (CityCode) dan drop feature Price. Lakukan OneHotEncoder untuk data kategorik string. Pisahkan juga label dengan feature!"
      ]
    },
    {
      "cell_type": "code",
      "execution_count": 140,
      "id": "423b56a0",
      "metadata": {},
      "outputs": [
        {
          "name": "stdout",
          "output_type": "stream",
          "text": [
            "cityPartRange        0\n",
            "numPrevOwners        0\n",
            "made                 0\n",
            "isNewBuilt           0\n",
            "hasStormProtector    0\n",
            "basement             0\n",
            "attic                0\n",
            "garage               0\n",
            "hasStorageRoom       0\n",
            "hasGuestRoom         0\n",
            "price                0\n",
            "category             0\n",
            "dtype: int64\n"
          ]
        }
      ],
      "source": [
        "# detect row yang mengandung NaN\n",
        "print(data.isnull().sum())\n",
        "# tidak ada data yang null, tidak perlu untuk menghapus data\n",
        "\n",
        "# drop kolom price\n",
        "data = data.drop(['price'], axis=1)"
      ]
    },
    {
      "cell_type": "code",
      "execution_count": 141,
      "metadata": {},
      "outputs": [
        {
          "name": "stdout",
          "output_type": "stream",
          "text": [
            "(2000, 15)\n",
            "['onehotencoder__isNewBuilt_N' 'onehotencoder__isNewBuilt_Y'\n",
            " 'onehotencoder__hasStormProtector_N' 'onehotencoder__hasStormProtector_Y'\n",
            " 'onehotencoder__hasStorageRoom_N' 'onehotencoder__hasStorageRoom_Y'\n",
            " 'onehotencoder__category_Basic' 'onehotencoder__category_Luxury'\n",
            " 'remainder__cityPartRange' 'remainder__numPrevOwners' 'remainder__made'\n",
            " 'remainder__basement' 'remainder__attic' 'remainder__garage'\n",
            " 'remainder__hasGuestRoom']\n"
          ]
        }
      ],
      "source": [
        "# encode data dengan one hot encoding\n",
        "from sklearn.preprocessing import OneHotEncoder\n",
        "from sklearn.compose import make_column_transformer\n",
        "\n",
        "cat_cols = ['isNewBuilt', 'hasStormProtector', 'hasStorageRoom', 'category']\n",
        "\n",
        "transformer = make_column_transformer((OneHotEncoder(), cat_cols), remainder='passthrough')\n",
        "\n",
        "data_enc = transformer.fit_transform(data)\n",
        "\n",
        "print(data_enc.shape)\n",
        "print(transformer.get_feature_names_out())\n",
        "\n",
        "data_enc = pd.DataFrame(data_enc, columns=transformer.get_feature_names_out())"
      ]
    },
    {
      "attachments": {},
      "cell_type": "markdown",
      "id": "069d2943",
      "metadata": {},
      "source": [
        "### Train-test split\n",
        "\n",
        "> Untuk sub A: random_state train_test_split gunakan 2 digit terakhir NPM terbesar di sub kelompok  \n",
        "\n",
        "> Untuk sub B: random_state train_test_split gunakan 2 digit terakhir NPM terkecil di sub kelompok "
      ]
    },
    {
      "cell_type": "code",
      "execution_count": 142,
      "id": "ALwqKZhLNCDs",
      "metadata": {
        "id": "ALwqKZhLNCDs"
      },
      "outputs": [],
      "source": [
        "#train-test split dan data scaling\n",
        "from sklearn.model_selection import train_test_split\n",
        "\n",
        "X = data_enc.drop(['onehotencoder__category_Basic', 'onehotencoder__category_Luxury'], axis=1)\n",
        "y = data['category']\n",
        "\n",
        "X_train, X_test, y_train, y_test = train_test_split(X, y, test_size=0.3, random_state=11) # npm 200710880 dan 210711011, diambil terbesar -> 210711011, diambil 2 digit terahir -> 11."
      ]
    },
    {
      "attachments": {},
      "cell_type": "markdown",
      "id": "754511e8",
      "metadata": {},
      "source": [
        "### Modelling\n",
        "\n",
        "Gunakan Pipeline untuk modelling dan grid search cross-validation untuk pemilihan model terbaik. Gunakan Stratified K-fold Cross Validation dengan nilai n_splits=5. Pipeline terdiri atas data scaling, feature selection, dan classifier. Buatlah 2 Pipeline dan 2 GridSearchCV untuk masing-masing kombinasi berikut.\n",
        "\n",
        ">Step data scaling untuk membandingkan perlunya data scaling atau tidak. Gunakan dua nilai pada parameter grid yaitu: [None,Scaler]. Untuk sub A: gunakan StandardScaler. Untuk sub B: gunakan MinMaxScaler\n",
        "\n",
        ">Step feature selection untuk membandingkan metode feature selection yang digunakan. Gunakan dua metode pada parameter grid yaitu: [Selector]. Untuk sub A: gunakan SelectKBest dengan ketentuan k minimal 2, maksimal n-1. Untuk sub B: gunakan SelectPercentile dengan ketentuan persentil minimal 30%, maksimal 80%. Kalian juga perlu melakukan setting parameter grid nilai k atau percentile-nya.\n",
        "\n",
        ">Step classifier untuk membandingkan algoritme classifier. Eksplorasi pengaturan parameter yang ada pada algoritme yang akan Anda gunakan, tidak terbatas pada 1-2 parameter saja supaya optimal (selain random_state). Silahkan bereksperimen untuk parameter seperti n_estimators, max_depth untuk tree-based classifier; C untuk Logistic Regression; dan C, gamma, serta kernel untuk SVM agar mendapat akurasi terbaik.\n",
        "\n",
        "> Sub A: RandomForestClassifier(n_estimators=bebas minimal 50, random_state= dua digit terakhir NPM terbesar dalam sub kelompok, max_depth=bebas, criterion='entropy') dan LogisticRegression(C=bebas, max_iter=10000, class_weight='balanced')\n",
        "\n",
        "> Sub B: K-Nearest Neighbors(n_neighbors=bebas, weights='distance') dan SVC(C=bebas, gamma=bebas, class_weight='balanced')\n",
        "\n",
        ">Tampilkan best estimator dan nilai best score dari kedua grid-search cross-validation. Fit best estimator pada train set kemudian ujikan pada test set dengan fungsi score. Format score 3 digit di belakang koma (.3f)."
      ]
    },
    {
      "cell_type": "code",
      "execution_count": 143,
      "id": "50c86125",
      "metadata": {
        "id": "50c86125"
      },
      "outputs": [],
      "source": [
        "#cell code ini untuk proses pembuatan model pipeline & grid search 1\n"
      ]
    },
    {
      "cell_type": "code",
      "execution_count": 144,
      "id": "331b208c",
      "metadata": {
        "id": "331b208c"
      },
      "outputs": [],
      "source": [
        "#cell code ini untuk proses pembuatan model pipeline & grid search 2\n"
      ]
    },
    {
      "attachments": {},
      "cell_type": "markdown",
      "id": "9ccd42b1",
      "metadata": {
        "id": "9ccd42b1"
      },
      "source": [
        "### Evaluasi Model\n",
        "\n",
        "Bagian berikut berisi evaluasi model menggunakan classification report dan skor AUC. Tampilkan classification report dan AUC dari best estimator yang diperoleh masing-masing grid search!"
      ]
    },
    {
      "cell_type": "code",
      "execution_count": 145,
      "id": "25812a07",
      "metadata": {
        "id": "25812a07"
      },
      "outputs": [],
      "source": [
        "#lakukan proses evaluasi model algoritme pembelajaran mesin\n"
      ]
    },
    {
      "attachments": {},
      "cell_type": "markdown",
      "id": "d6f85f13",
      "metadata": {
        "id": "d6f85f13"
      },
      "source": [
        "## Kesimpulan\n",
        "\n",
        "Silahkan jawab pertanyaan berikut:\n",
        "\n",
        "1. Apa saja feature-feature yang penting untuk membedakan antara rumah basic dan luxury? \n",
        "\n",
        "2. Model apakah yang memiliki performa paling baik terhadap dataset? Apakah parameter setting yang paling optimal dari model tersebut?"
      ]
    },
    {
      "attachments": {},
      "cell_type": "markdown",
      "id": "a1c82c65",
      "metadata": {
        "id": "a1c82c65"
      },
      "source": [
        "*tulis jawaban Anda di cell ini*"
      ]
    }
  ],
  "metadata": {
    "colab": {
      "provenance": []
    },
    "kernelspec": {
      "display_name": "Python 3 (ipykernel)",
      "language": "python",
      "name": "python3"
    },
    "language_info": {
      "codemirror_mode": {
        "name": "ipython",
        "version": 3
      },
      "file_extension": ".py",
      "mimetype": "text/x-python",
      "name": "python",
      "nbconvert_exporter": "python",
      "pygments_lexer": "ipython3",
      "version": "3.11.3"
    }
  },
  "nbformat": 4,
  "nbformat_minor": 5
}
